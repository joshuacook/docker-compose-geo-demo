{
 "cells": [
  {
   "cell_type": "markdown",
   "metadata": {},
   "source": [
    "# PostGIS\n",
    "\n",
    "The city of San Francisco wants to assess the quality of restaurants in the city. Their data is scattered across multiple sources and incomplete.\n",
    "\n",
    "They tasked you to help them assess it.\n",
    "\n",
    "They would like to know what the most common violations are where they happen most frequently.\n",
    "\n",
    "We will use a PostgreSQL database configured with the geo-spatial tool, PostGIS, to do this work."
   ]
  },
  {
   "cell_type": "markdown",
   "metadata": {},
   "source": [
    "# Three Database Concepts"
   ]
  },
  {
   "cell_type": "markdown",
   "metadata": {},
   "source": [
    "1. CRUD\n",
    "2. connection and cursor\n",
    "3. transactions"
   ]
  },
  {
   "cell_type": "markdown",
   "metadata": {},
   "source": [
    "## CRUD\n",
    "\n",
    "| | SQL | RESTful API |\n",
    "|:-:|:-:|:-:|\n",
    "| create | `INSERT` | `POST` |\n",
    "| read | `SELECT` | `GET` |\n",
    "| update | `UPDATE` | `PUT` |\n",
    "| delete | `DELETE` | `DELETE` |\n"
   ]
  },
  {
   "cell_type": "markdown",
   "metadata": {},
   "source": [
    "### Correspondence to Python Classes"
   ]
  },
  {
   "cell_type": "code",
   "execution_count": null,
   "metadata": {
    "collapsed": true
   },
   "outputs": [],
   "source": [
    "class Foo():\n",
    "    def __init__(self, bar, baz):\n",
    "        self.bar = int(bar)\n",
    "        self.baz = int(baz)"
   ]
  },
  {
   "cell_type": "markdown",
   "metadata": {},
   "source": [
    "This class would correspond to a SQL table.\n",
    "\n",
    "           foo\n",
    "    +-------+-------+               \n",
    "    |  bar  |  baz  |\n",
    "    +-------+-------+\n",
    "    |  int  |  int  |\n",
    "    +-------+-------+    "
   ]
  },
  {
   "cell_type": "markdown",
   "metadata": {},
   "source": [
    "## Connection and Cursor\n",
    "\n",
    "We will use a connection object to define our connection to our database over a network.\n",
    "\n",
    "We will use a cursor object to write to the database. The cursor is created by a class function of the connection object."
   ]
  },
  {
   "cell_type": "code",
   "execution_count": null,
   "metadata": {
    "collapsed": true
   },
   "outputs": [],
   "source": [
    "import psycopg2 as pg2\n",
    "from psycopg2.extras import RealDictCursor\n",
    "\n",
    "connection = pg2.connect(host='postgis',\n",
    "                         user='postgres',\n",
    "                         database='postgres')\n",
    "cursor = connection.cursor(cursor_factory=RealDictCursor)"
   ]
  },
  {
   "cell_type": "markdown",
   "metadata": {},
   "source": [
    "The cursor can be used to execute queries and then to fetch the results of the query."
   ]
  },
  {
   "cell_type": "code",
   "execution_count": null,
   "metadata": {
    "collapsed": true
   },
   "outputs": [],
   "source": [
    "result = cursor.execute(\"SELECT * FROM business LIMIT 2;\")"
   ]
  },
  {
   "cell_type": "code",
   "execution_count": null,
   "metadata": {},
   "outputs": [],
   "source": [
    "cursor.fetchall()"
   ]
  },
  {
   "cell_type": "code",
   "execution_count": null,
   "metadata": {
    "collapsed": true
   },
   "outputs": [],
   "source": [
    "connection.close()"
   ]
  },
  {
   "cell_type": "markdown",
   "metadata": {},
   "source": [
    "Because we used the `cursor_factory=RealDictCursor` argument, the results return a list of dictionary objects from the database. \n",
    "\n",
    "The advantage of this is that we can display these results easily with a DataFrame.\n"
   ]
  },
  {
   "cell_type": "code",
   "execution_count": null,
   "metadata": {
    "collapsed": true
   },
   "outputs": [],
   "source": [
    "import pandas as pd"
   ]
  },
  {
   "cell_type": "code",
   "execution_count": null,
   "metadata": {},
   "outputs": [],
   "source": [
    "connection = pg2.connect(host='postgis',\n",
    "                         user='postgres',\n",
    "                         database='postgres')\n",
    "cursor = connection.cursor(cursor_factory=RealDictCursor)\n",
    "result = cursor.execute(\"SELECT * FROM business LIMIT 2;\")\n",
    "pd.DataFrame(cursor.fetchall())"
   ]
  },
  {
   "cell_type": "code",
   "execution_count": null,
   "metadata": {
    "collapsed": true
   },
   "outputs": [],
   "source": [
    "connection.close()"
   ]
  },
  {
   "cell_type": "markdown",
   "metadata": {},
   "source": [
    "## `lib.db_helper`"
   ]
  },
  {
   "cell_type": "markdown",
   "metadata": {},
   "source": [
    "Because we will keep using the connection-cursor pattern, we have written it into a sub-module."
   ]
  },
  {
   "cell_type": "code",
   "execution_count": null,
   "metadata": {
    "collapsed": true
   },
   "outputs": [],
   "source": [
    "from os import chdir\n",
    "chdir('/home/jovyan')"
   ]
  },
  {
   "cell_type": "code",
   "execution_count": null,
   "metadata": {
    "collapsed": true
   },
   "outputs": [],
   "source": [
    "import lib.db_helper as db"
   ]
  },
  {
   "cell_type": "markdown",
   "metadata": {},
   "source": [
    "#### `db.connect_to_db()`\n",
    "\n",
    "Contains our connection credentials and returns a connection and cursor. \n",
    "\n",
    "    def connect_to_db():\n",
    "        con = pg2.connect(host='postgis',\n",
    "                          dbname='postgres',\n",
    "                          user='postgres')\n",
    "        cur = con.cursor(cursor_factory=RealDictCursor)\n",
    "        return con, cur"
   ]
  },
  {
   "cell_type": "code",
   "execution_count": null,
   "metadata": {},
   "outputs": [],
   "source": [
    "connection, cursor = db.connect_to_db()\n",
    "result = cursor.execute(\"SELECT * FROM business LIMIT 2;\")\n",
    "pd.DataFrame(cursor.fetchall())"
   ]
  },
  {
   "cell_type": "code",
   "execution_count": null,
   "metadata": {
    "collapsed": true
   },
   "outputs": [],
   "source": [
    "connection.close()"
   ]
  },
  {
   "cell_type": "markdown",
   "metadata": {},
   "source": [
    "#### `db.query_to_dictionary()`\n",
    "\n",
    "1. creates a connection and a cursor\n",
    "1. uses the cursor to execute a query\n",
    "1. if `fetch_res` is `True` it fetches the results, otherwise results are `None`\n",
    "1. closes the connection and returns `results`\n",
    "\n",
    "\n",
    "    def query_to_dictionary(query, fetch_res=True):\n",
    "        con, cur = connect_to_db()\n",
    "        cur.execute(query)\n",
    "        if fetch_res:\n",
    "            results = cur.fetchall()\n",
    "        else:\n",
    "            results = None\n",
    "        con.close()\n",
    "        return results"
   ]
  },
  {
   "cell_type": "code",
   "execution_count": null,
   "metadata": {},
   "outputs": [],
   "source": [
    "db.query_to_dictionary(\"\"\"SELECT * FROM business LIMIT 2;\"\"\")"
   ]
  },
  {
   "cell_type": "code",
   "execution_count": null,
   "metadata": {
    "collapsed": true
   },
   "outputs": [],
   "source": [
    "db.query_to_dictionary(\"\"\"SELECT * FROM business LIMIT 2;\"\"\", fetch_res=False)"
   ]
  },
  {
   "cell_type": "markdown",
   "metadata": {},
   "source": [
    "#### `db.query_to_dataframe()`\n",
    "\n",
    "Wraps `query_to_dictionary()` in a `pandas.DataFrame`.\n",
    "\n",
    "    def query_to_dataframe(query):\n",
    "        return DataFrame(query_to_dictionary(query))"
   ]
  },
  {
   "cell_type": "code",
   "execution_count": null,
   "metadata": {},
   "outputs": [],
   "source": [
    "db.query_to_dataframe('SELECT * FROM business LIMIT 2;')"
   ]
  },
  {
   "cell_type": "markdown",
   "metadata": {},
   "source": [
    "## Transactions\n",
    "\n",
    "As we begin working on \"production\" databases, it becomes critical to maintain the integrity of the data. \n",
    "\n",
    "Imagine a website with a database using the following table:\n",
    "\n",
    "           page\n",
    "    +-----------+---------------+               \n",
    "    |  page_id  |  visit_count  |\n",
    "    +-----------+---------------+               \n",
    "    |    int    |      int      |\n",
    "    +-----------+---------------+               "
   ]
  },
  {
   "cell_type": "markdown",
   "metadata": {},
   "source": [
    "Suppose that a page with `page_id` `15` is visited nearly simultaneously. You could imagine the following sequence of events:\n",
    "\n",
    "1. The first page visit occurs. \n",
    "2. The website requests to increment the `visit_count`.\n",
    "3. The second page visit occurs.\n",
    "4. Using a separate proces, the website requests to increment the `visit_count`.\n",
    "5. The first increment is written to the database\n",
    "6. The second increment is written to the database\n",
    "\n",
    "How many visits have been recorded?\n",
    "\n",
    "In order to ensure that no data is lost, PostgreSQL uses transactions.\n",
    "\n",
    "- A transaction is begun with the keyword `BEGIN`.\n",
    "- Changes to the database are made in memory.\n",
    "- Changes to the database are validated. \n",
    "- If valid, the changes are made permanent with the keyword `COMMIT`\n",
    "- If invalid, the changes are discarded with the keyword `ROLLBACK`\n"
   ]
  },
  {
   "cell_type": "markdown",
   "metadata": {},
   "source": [
    "### Create new column in `business` table\n",
    "\n",
    "To demonstrate how transactions work, we will write a SQL query to create a new column in our database."
   ]
  },
  {
   "cell_type": "code",
   "execution_count": null,
   "metadata": {},
   "outputs": [],
   "source": [
    "db.query_to_dictionary(\"\"\"\n",
    "BEGIN;\n",
    "ALTER TABLE business ADD COLUMN gpnt_location geometry(POINT,4326);\n",
    "COMMIT;\n",
    "\"\"\", fetch_res=False)"
   ]
  },
  {
   "cell_type": "code",
   "execution_count": null,
   "metadata": {},
   "outputs": [],
   "source": [
    "db.query_to_dataframe('SELECT * FROM business LIMIT 2;')"
   ]
  },
  {
   "cell_type": "markdown",
   "metadata": {},
   "source": [
    "We will want to populate this column, but the data is a bit messy as we will see in a moment. "
   ]
  },
  {
   "cell_type": "markdown",
   "metadata": {},
   "source": [
    "# Postgres Aggregate Functions\n",
    "\n",
    "In this lesson, we will use [Postgres Aggregate](https://www.postgresql.org/docs/9.5/static/functions-aggregate.html) functions to explore data for businesses in San Francisco. \n",
    "\n",
    "Aggregate functions compute a single result from a set of input values.\n",
    "\n",
    "Some aggregate functions include:\n",
    "\n",
    "| Function | Description |\n",
    "|:-:|:-:|\n",
    "| `avg(expression)` | the average (arithmetic mean) of all input values |\n",
    "| `count(*)` | number of input rows |\n",
    "| `max(expression)` | maximum value of `expression` across all input values |\n",
    "| `min(expression)` | minimum value of `expression` across all input values |\n",
    "| `sum(expression)` | sum of `expression` across all input values |"
   ]
  },
  {
   "cell_type": "markdown",
   "metadata": {},
   "source": [
    "# Clean the Data"
   ]
  },
  {
   "cell_type": "markdown",
   "metadata": {},
   "source": [
    "We can use `COUNT` to count the number of rows in our `business` table. "
   ]
  },
  {
   "cell_type": "code",
   "execution_count": null,
   "metadata": {
    "collapsed": true
   },
   "outputs": [],
   "source": [
    "select_count_business = \"\"\"\n",
    "SELECT COUNT(*) FROM business\n",
    "\"\"\""
   ]
  },
  {
   "cell_type": "code",
   "execution_count": null,
   "metadata": {},
   "outputs": [],
   "source": [
    "db.query_to_dataframe(select_count_business)"
   ]
  },
  {
   "cell_type": "markdown",
   "metadata": {},
   "source": [
    "We can use `COUNT` with a `GROUP BY` clause to count the number of rows for each zip code. "
   ]
  },
  {
   "cell_type": "code",
   "execution_count": null,
   "metadata": {
    "collapsed": true
   },
   "outputs": [],
   "source": [
    "select_count_by_postal_code = \"\"\"\n",
    "SELECT postal_code, COUNT(*) FROM business\n",
    "GROUP BY postal_code\n",
    "ORDER BY postal_code\n",
    "\"\"\""
   ]
  },
  {
   "cell_type": "code",
   "execution_count": null,
   "metadata": {},
   "outputs": [],
   "source": [
    "db.query_to_dataframe(select_count_by_postal_code)"
   ]
  },
  {
   "cell_type": "markdown",
   "metadata": {},
   "source": [
    "## Yikes! That is some messy data. "
   ]
  },
  {
   "cell_type": "markdown",
   "metadata": {},
   "source": [
    "### `WHERE` \n",
    "\n",
    "We next use the `WHERE` clause to restrict our count to just rows that have `latitude` and `longitude` data. "
   ]
  },
  {
   "cell_type": "code",
   "execution_count": null,
   "metadata": {
    "collapsed": true
   },
   "outputs": [],
   "source": [
    "select_count_business_non_null_lat_long = \"\"\"\n",
    "SELECT COUNT(*) FROM business\n",
    "WHERE latitude IS NOT NULL\n",
    "AND longitude IS NOT NULL\n",
    "\"\"\""
   ]
  },
  {
   "cell_type": "code",
   "execution_count": null,
   "metadata": {},
   "outputs": [],
   "source": [
    "db.query_to_dataframe(select_count_business_non_null_lat_long)"
   ]
  },
  {
   "cell_type": "markdown",
   "metadata": {},
   "source": [
    "Note that we might also have invalid data."
   ]
  },
  {
   "cell_type": "code",
   "execution_count": null,
   "metadata": {
    "collapsed": true
   },
   "outputs": [],
   "source": [
    "select_count_business_invalid_data = \"\"\"\n",
    "SELECT COUNT(*) FROM business\n",
    "WHERE latitude = 0 AND longitude = 0;\"\"\""
   ]
  },
  {
   "cell_type": "code",
   "execution_count": null,
   "metadata": {},
   "outputs": [],
   "source": [
    "db.query_to_dataframe(select_count_business_invalid_data)"
   ]
  },
  {
   "cell_type": "code",
   "execution_count": null,
   "metadata": {
    "collapsed": true
   },
   "outputs": [],
   "source": [
    "select_count_business_valid = \"\"\"\n",
    "SELECT COUNT(*) FROM business\n",
    "WHERE \n",
    "    (latitude IS NOT NULL\n",
    "     AND longitude IS NOT NULL)\n",
    "AND \n",
    "    (latitude != 0 \n",
    "     AND longitude != 0)\n",
    "\"\"\"\n",
    "\n",
    "select_count_business_invalid = \"\"\"\n",
    "SELECT COUNT(*) FROM business\n",
    "WHERE \n",
    "    (latitude IS NULL\n",
    "     AND longitude IS NULL)\n",
    "OR \n",
    "    (latitude = 0 \n",
    "     AND longitude = 0)\n",
    "\"\"\""
   ]
  },
  {
   "cell_type": "code",
   "execution_count": null,
   "metadata": {},
   "outputs": [],
   "source": [
    "db.query_to_dataframe(select_count_business_valid)"
   ]
  },
  {
   "cell_type": "code",
   "execution_count": null,
   "metadata": {},
   "outputs": [],
   "source": [
    "db.query_to_dataframe(select_count_business_invalid)"
   ]
  },
  {
   "cell_type": "markdown",
   "metadata": {},
   "source": [
    "### Store Valid and Invalid Queries"
   ]
  },
  {
   "cell_type": "markdown",
   "metadata": {},
   "source": [
    "We will also make use of subqueries. We will define two:\n",
    "\n",
    "1. a subquery for all businesses with valid lat/long\n",
    "1. a subquery for all businesses with invalid lat/long"
   ]
  },
  {
   "cell_type": "markdown",
   "metadata": {},
   "source": [
    "#### Valid Business Query"
   ]
  },
  {
   "cell_type": "code",
   "execution_count": null,
   "metadata": {
    "collapsed": true
   },
   "outputs": [],
   "source": [
    "select_business_valid = \"\"\"\n",
    "SELECT * FROM business\n",
    "WHERE \n",
    "    (latitude IS NOT NULL\n",
    "     AND longitude IS NOT NULL)\n",
    "AND \n",
    "    (latitude != 0 \n",
    "     AND longitude != 0)\n",
    "\"\"\"\n",
    "\n",
    "select_business_invalid = \"\"\"\n",
    "SELECT * FROM business\n",
    "WHERE \n",
    "    (latitude IS NULL\n",
    "     AND longitude IS NULL)\n",
    "OR \n",
    "    (latitude = 0 \n",
    "     AND longitude = 0)\n",
    "\"\"\""
   ]
  },
  {
   "cell_type": "code",
   "execution_count": null,
   "metadata": {},
   "outputs": [],
   "source": [
    "print(db.query_to_dataframe(select_business_valid).shape)\n",
    "db.query_to_dataframe(select_business_valid).sample(4)"
   ]
  },
  {
   "cell_type": "code",
   "execution_count": null,
   "metadata": {},
   "outputs": [],
   "source": [
    "print(db.query_to_dataframe(select_business_invalid).shape)\n",
    "db.query_to_dataframe(select_business_invalid).sample(4)"
   ]
  },
  {
   "cell_type": "markdown",
   "metadata": {},
   "source": [
    "### Explore Postal Code and Lat/Long"
   ]
  },
  {
   "cell_type": "markdown",
   "metadata": {},
   "source": [
    "First, let's get the postal codes with a count of less than 10. We will use a sub-query.\n",
    "\n",
    "Let's use these subqueries to help us to clean the data. "
   ]
  },
  {
   "cell_type": "markdown",
   "metadata": {},
   "source": [
    "Note that we re-use `select_count_by_postal_code`."
   ]
  },
  {
   "cell_type": "code",
   "execution_count": null,
   "metadata": {},
   "outputs": [],
   "source": [
    "print(select_count_by_postal_code)"
   ]
  },
  {
   "cell_type": "code",
   "execution_count": null,
   "metadata": {},
   "outputs": [],
   "source": [
    "select_postal_code_by_postal_code_less_than_10 = \"\"\"\n",
    "SELECT postal_code FROM \n",
    "    ({}) q\n",
    "WHERE count < 10\n",
    "\"\"\".format(select_count_by_postal_code)\n",
    "\n",
    "print(select_postal_code_by_postal_code_less_than_10)"
   ]
  },
  {
   "cell_type": "markdown",
   "metadata": {},
   "source": [
    "Note that we are using a subquery here. \n",
    "\n",
    "e.g. \n",
    "\n",
    "    SELECT * FROM (SUBQUERY) sub_query_name;\n",
    "    "
   ]
  },
  {
   "cell_type": "code",
   "execution_count": null,
   "metadata": {},
   "outputs": [],
   "source": [
    "db.query_to_dataframe(select_postal_code_by_postal_code_less_than_10)"
   ]
  },
  {
   "cell_type": "markdown",
   "metadata": {},
   "source": [
    "We'll think of these as our \"bad postal codes\". We can think of the query we defined as a list of these codes. That query was"
   ]
  },
  {
   "cell_type": "code",
   "execution_count": null,
   "metadata": {},
   "outputs": [],
   "source": [
    "print(select_postal_code_by_postal_code_less_than_10)"
   ]
  },
  {
   "cell_type": "markdown",
   "metadata": {},
   "source": [
    "Do we have (lat,long) pairs for these locations? Let's select all rows with one of these postal codes."
   ]
  },
  {
   "cell_type": "markdown",
   "metadata": {},
   "source": [
    "### `IN`"
   ]
  },
  {
   "cell_type": "markdown",
   "metadata": {},
   "source": [
    "To do this we will use the SQL keyword `IN`. `IN` checks a column against a list of items."
   ]
  },
  {
   "cell_type": "markdown",
   "metadata": {},
   "source": [
    "e.g. \n",
    "\n",
    "    SELECT * FROM my_table WHERE my_column IN ('1,2,3,4,5');"
   ]
  },
  {
   "cell_type": "markdown",
   "metadata": {},
   "source": [
    "# We will replace the list with our Sub-Query!! "
   ]
  },
  {
   "cell_type": "code",
   "execution_count": null,
   "metadata": {},
   "outputs": [],
   "source": [
    "select_business_where_bad_postal_code = \"\"\"\n",
    "SELECT * FROM business WHERE postal_code IN ({})\"\"\".format(select_postal_code_by_postal_code_less_than_10)\n",
    "print(select_business_where_bad_postal_code)"
   ]
  },
  {
   "cell_type": "code",
   "execution_count": null,
   "metadata": {},
   "outputs": [],
   "source": [
    "db.query_to_dataframe(select_business_where_bad_postal_code).sample(5)"
   ]
  },
  {
   "cell_type": "markdown",
   "metadata": {},
   "source": [
    "Note that some of these have a lat and long. "
   ]
  },
  {
   "cell_type": "markdown",
   "metadata": {},
   "source": [
    "What we want is rows that have \"bad postal codes\" and no (lat, long) pair. "
   ]
  },
  {
   "cell_type": "markdown",
   "metadata": {},
   "source": [
    "### A Nested Query\n",
    "\n",
    "To get these we will write a nested query that looks like this:\n",
    "\n",
    "    SELECT * FROM (invalid_lat_long) WHERE postal_code IN (bad_postal_code_str)"
   ]
  },
  {
   "cell_type": "code",
   "execution_count": null,
   "metadata": {},
   "outputs": [],
   "source": [
    "select_invalid_business_where_bad_postal_code = \"\"\"\n",
    "SELECT * \n",
    "FROM ({}) q\n",
    "WHERE postal_code IN ({})\n",
    "\"\"\".format(select_business_invalid, select_postal_code_by_postal_code_less_than_10)\n",
    "print(select_invalid_business_where_bad_postal_code)"
   ]
  },
  {
   "cell_type": "code",
   "execution_count": null,
   "metadata": {},
   "outputs": [],
   "source": [
    "db.query_to_dataframe(select_invalid_business_where_bad_postal_code)"
   ]
  },
  {
   "cell_type": "markdown",
   "metadata": {},
   "source": [
    "#### Let's use `DELETE` to get rid of rows that have no lat, long and a bad zip"
   ]
  },
  {
   "cell_type": "markdown",
   "metadata": {},
   "source": [
    "First, let's collect a list of business `id`s. "
   ]
  },
  {
   "cell_type": "code",
   "execution_count": null,
   "metadata": {},
   "outputs": [],
   "source": [
    "select_invalid_business_id_where_bad_postal_code = \"\"\"\n",
    "SELECT id \n",
    "FROM ({}) q\n",
    "WHERE postal_code IN ({})\n",
    "\"\"\".format(select_business_invalid, select_postal_code_by_postal_code_less_than_10)\n",
    "print(select_invalid_business_id_where_bad_postal_code)"
   ]
  },
  {
   "cell_type": "code",
   "execution_count": null,
   "metadata": {},
   "outputs": [],
   "source": [
    "db.query_to_dataframe(select_invalid_business_id_where_bad_postal_code)"
   ]
  },
  {
   "cell_type": "code",
   "execution_count": null,
   "metadata": {},
   "outputs": [],
   "source": [
    "print(select_invalid_business_id_where_bad_postal_code)"
   ]
  },
  {
   "cell_type": "markdown",
   "metadata": {},
   "source": [
    "We can use this subquery in our `DELETE` query."
   ]
  },
  {
   "cell_type": "markdown",
   "metadata": {},
   "source": [
    "Remember, that a **delete** action is a write action and needs to be handled as a transaction. We need to `BEGIN` and `COMMIT`. "
   ]
  },
  {
   "cell_type": "code",
   "execution_count": null,
   "metadata": {},
   "outputs": [],
   "source": [
    "delete_invalid_business_bad_postal_code = \"\"\"\n",
    "BEGIN;\n",
    "DELETE \n",
    "FROM business\n",
    "WHERE id IN ({});\n",
    "COMMIT;\n",
    "\"\"\".format(select_invalid_business_id_where_bad_postal_code)\n",
    "print(delete_invalid_business_bad_postal_code)"
   ]
  },
  {
   "cell_type": "markdown",
   "metadata": {},
   "source": [
    "Remember, when we execute this we do not need to fetch results so we should set `fetch_res` to `False`."
   ]
  },
  {
   "cell_type": "code",
   "execution_count": null,
   "metadata": {},
   "outputs": [],
   "source": [
    "db.query_to_dictionary(delete_invalid_business_bad_postal_code, fetch_res=False)"
   ]
  },
  {
   "cell_type": "markdown",
   "metadata": {},
   "source": [
    "Let's have a look at the sql file used to define our database. "
   ]
  },
  {
   "cell_type": "markdown",
   "metadata": {},
   "source": [
    "```SQL\n",
    "CREATE TABLE business (\n",
    "    id INTEGER,\n",
    "    name TEXT,\n",
    "    address TEXT,\n",
    "    city TEXT,\n",
    "    state TEXT,\n",
    "    postal_code INTEGER,\n",
    "    latitude FLOAT,\n",
    "    longitude FLOAT,\n",
    "    phone_number TEXT,\n",
    "    PRIMARY KEY (id));\n",
    "\n",
    "CREATE TABLE inspection (\n",
    "    business_id INTEGER,\n",
    "    score INTEGER,\n",
    "    date TIMESTAMP,\n",
    "    type TEXT,\n",
    "    CONSTRAINT fk_business_id\n",
    "    FOREIGN KEY (business_id)\n",
    "    REFERENCES business (id));\n",
    "\n",
    "CREATE TABLE legend (\n",
    "    minimum_score INTEGER,\n",
    "    maximum_score INTEGER,\n",
    "    description TEXT);\n",
    "\n",
    "CREATE TABLE violation (\n",
    "    business_id INTEGER,\n",
    "    date TIMESTAMP,\n",
    "    description TEXT,\n",
    "    CONSTRAINT fk_business_id\n",
    "    FOREIGN KEY (business_id)\n",
    "    REFERENCES business (id));\n",
    "\n",
    "```"
   ]
  },
  {
   "cell_type": "markdown",
   "metadata": {},
   "source": [
    "Note that we have foreign key `CONSTRAINT`s on the `inspection` and `violation` tables.  "
   ]
  },
  {
   "cell_type": "markdown",
   "metadata": {},
   "source": [
    "This means that, in order to drop the businesses with \"bad\" data, we will need to drop any inspections and violations associated with these. "
   ]
  },
  {
   "cell_type": "markdown",
   "metadata": {},
   "source": [
    "### \"Bad\" Business Data"
   ]
  },
  {
   "cell_type": "code",
   "execution_count": null,
   "metadata": {},
   "outputs": [],
   "source": [
    "db.query_to_dataframe(select_invalid_business_id_where_bad_postal_code)"
   ]
  },
  {
   "cell_type": "code",
   "execution_count": null,
   "metadata": {},
   "outputs": [],
   "source": [
    "print(select_invalid_business_id_where_bad_postal_code)"
   ]
  },
  {
   "cell_type": "code",
   "execution_count": null,
   "metadata": {
    "collapsed": true
   },
   "outputs": [],
   "source": [
    "select_violations_for_bad_biz = \"\"\"\n",
    "SELECT * FROM violation\n",
    "WHERE business_id IN ({})\n",
    "\"\"\".format(select_invalid_business_id_where_bad_postal_code)"
   ]
  },
  {
   "cell_type": "code",
   "execution_count": null,
   "metadata": {},
   "outputs": [],
   "source": [
    "db.query_to_dataframe(select_violations_for_bad_biz)"
   ]
  },
  {
   "cell_type": "markdown",
   "metadata": {},
   "source": [
    "### Delete Violations"
   ]
  },
  {
   "cell_type": "code",
   "execution_count": null,
   "metadata": {
    "collapsed": true
   },
   "outputs": [],
   "source": [
    "select_count_violation = \"\"\"\n",
    "SELECT COUNT(*) FROM violation\"\"\""
   ]
  },
  {
   "cell_type": "code",
   "execution_count": null,
   "metadata": {},
   "outputs": [],
   "source": [
    "db.query_to_dataframe(select_count_violation)"
   ]
  },
  {
   "cell_type": "code",
   "execution_count": null,
   "metadata": {
    "collapsed": true
   },
   "outputs": [],
   "source": [
    "delete_violations_for_bad_biz = \"\"\"\n",
    "BEGIN;\n",
    "DELETE FROM violation\n",
    "WHERE business_id IN ({});\n",
    "COMMIT;\"\"\".format(select_invalid_business_id_where_bad_postal_code)"
   ]
  },
  {
   "cell_type": "code",
   "execution_count": null,
   "metadata": {},
   "outputs": [],
   "source": [
    "db.query_to_dictionary(delete_violations_for_bad_biz, fetch_res=False)"
   ]
  },
  {
   "cell_type": "code",
   "execution_count": null,
   "metadata": {},
   "outputs": [],
   "source": [
    "db.query_to_dataframe(select_count_violation)"
   ]
  },
  {
   "cell_type": "markdown",
   "metadata": {},
   "source": [
    "### Delete Inspections"
   ]
  },
  {
   "cell_type": "code",
   "execution_count": null,
   "metadata": {
    "collapsed": true
   },
   "outputs": [],
   "source": [
    "select_count_inspections = \"\"\"\n",
    "SELECT COUNT(*) FROM inspection\"\"\""
   ]
  },
  {
   "cell_type": "code",
   "execution_count": null,
   "metadata": {},
   "outputs": [],
   "source": [
    "db.query_to_dataframe(select_count_inspections)"
   ]
  },
  {
   "cell_type": "code",
   "execution_count": null,
   "metadata": {
    "collapsed": true
   },
   "outputs": [],
   "source": [
    "delete_inspections_for_bad_biz = \"\"\"\n",
    "BEGIN;\n",
    "DELETE FROM inspection\n",
    "WHERE business_id IN ({});\n",
    "COMMIT;\"\"\".format(select_invalid_business_id_where_bad_postal_code)"
   ]
  },
  {
   "cell_type": "code",
   "execution_count": null,
   "metadata": {},
   "outputs": [],
   "source": [
    "db.query_to_dictionary(delete_inspections_for_bad_biz, fetch_res=False)"
   ]
  },
  {
   "cell_type": "code",
   "execution_count": null,
   "metadata": {},
   "outputs": [],
   "source": [
    "db.query_to_dataframe(select_count_inspections)"
   ]
  },
  {
   "cell_type": "markdown",
   "metadata": {},
   "source": [
    "### Delete Businesses"
   ]
  },
  {
   "cell_type": "code",
   "execution_count": null,
   "metadata": {},
   "outputs": [],
   "source": [
    "db.query_to_dataframe(select_count_business)"
   ]
  },
  {
   "cell_type": "code",
   "execution_count": null,
   "metadata": {
    "collapsed": true
   },
   "outputs": [],
   "source": [
    "db.query_to_dictionary(delete_invalid_business_bad_postal_code, fetch_res=False)"
   ]
  },
  {
   "cell_type": "code",
   "execution_count": null,
   "metadata": {},
   "outputs": [],
   "source": [
    "db.query_to_dataframe(select_count_business)"
   ]
  },
  {
   "cell_type": "markdown",
   "metadata": {},
   "source": [
    "### Pull Bad Postal Codes Again"
   ]
  },
  {
   "cell_type": "code",
   "execution_count": null,
   "metadata": {},
   "outputs": [],
   "source": [
    "db.query_to_dataframe(select_postal_code_by_postal_code_less_than_10)"
   ]
  },
  {
   "cell_type": "markdown",
   "metadata": {},
   "source": [
    "## Repair Bad Zip Codes\n",
    "To repair the bad zip codes, we will attempt match the nearest points using GIS. \n",
    "\n",
    "To do this, we will first need to populate the `gpnt_location` column."
   ]
  },
  {
   "cell_type": "code",
   "execution_count": null,
   "metadata": {},
   "outputs": [],
   "source": [
    "db.query_to_dataframe(select_business_valid).sample(4)"
   ]
  },
  {
   "cell_type": "code",
   "execution_count": null,
   "metadata": {
    "collapsed": true
   },
   "outputs": [],
   "source": [
    "update_gpnt = \"\"\"\n",
    "BEGIN;\n",
    "UPDATE business SET \n",
    "gpnt_location = ST_SetSRID(ST_MakePoint(latitude, longitude),4326);\n",
    "COMMIT;\n",
    "\"\"\""
   ]
  },
  {
   "cell_type": "code",
   "execution_count": null,
   "metadata": {},
   "outputs": [],
   "source": [
    "db.query_to_dictionary(update_gpnt, fetch_res=False)"
   ]
  },
  {
   "cell_type": "markdown",
   "metadata": {},
   "source": [
    "### Match points to the points with bad zip codes using a given radius"
   ]
  },
  {
   "cell_type": "code",
   "execution_count": null,
   "metadata": {},
   "outputs": [],
   "source": [
    "db.query_to_dataframe(select_postal_code_by_postal_code_less_than_10)"
   ]
  },
  {
   "cell_type": "code",
   "execution_count": null,
   "metadata": {
    "collapsed": true
   },
   "outputs": [],
   "source": [
    "def select_postal_code(postal_code):\n",
    "    return \"\"\"SELECT * FROM business WHERE postal_code = {}\"\"\".format(postal_code)"
   ]
  },
  {
   "cell_type": "code",
   "execution_count": null,
   "metadata": {},
   "outputs": [],
   "source": [
    "db.query_to_dataframe(select_postal_code(92672))"
   ]
  },
  {
   "cell_type": "code",
   "execution_count": null,
   "metadata": {
    "collapsed": true
   },
   "outputs": [],
   "source": [
    "def select_gpnt_for_postal_code(postal_code):\n",
    "    return \"\"\"SELECT gpnt_location FROM business WHERE postal_code = {} LIMIT 1\"\"\".format(postal_code)"
   ]
  },
  {
   "cell_type": "code",
   "execution_count": null,
   "metadata": {},
   "outputs": [],
   "source": [
    "def match_gpnt(postal_code, distance):\n",
    "    return \"\"\"\n",
    "            SELECT *\n",
    "            FROM business\n",
    "            WHERE ST_Distance_Sphere(gpnt_location, ({})) <= {}\n",
    "            \"\"\".format(select_gpnt_for_postal_code(postal_code), distance)"
   ]
  },
  {
   "cell_type": "code",
   "execution_count": null,
   "metadata": {},
   "outputs": [],
   "source": [
    "db.query_to_dataframe(match_gpnt(92672, 100))"
   ]
  },
  {
   "cell_type": "code",
   "execution_count": null,
   "metadata": {
    "collapsed": true
   },
   "outputs": [],
   "source": [
    "update_92672 = \"\"\"\n",
    "BEGIN;\n",
    "UPDATE business SET postal_code = 94117 WHERE postal_code = 92672;\n",
    "COMMIT;\n",
    "\"\"\""
   ]
  },
  {
   "cell_type": "code",
   "execution_count": null,
   "metadata": {},
   "outputs": [],
   "source": [
    "db.query_to_dictionary(update_92672, fetch_res=False)"
   ]
  },
  {
   "cell_type": "markdown",
   "metadata": {},
   "source": [
    "### Check the Status of our Bad Postal Codes"
   ]
  },
  {
   "cell_type": "code",
   "execution_count": null,
   "metadata": {},
   "outputs": [],
   "source": [
    "db.query_to_dataframe(select_postal_code_by_postal_code_less_than_10)"
   ]
  },
  {
   "cell_type": "code",
   "execution_count": null,
   "metadata": {},
   "outputs": [],
   "source": [
    "db.query_to_dataframe(match_gpnt(94101, 100))"
   ]
  },
  {
   "cell_type": "markdown",
   "metadata": {},
   "source": [
    "## Plot locations"
   ]
  },
  {
   "cell_type": "markdown",
   "metadata": {},
   "source": [
    "Next, we will use Folium to plot the businesses for which we have a latitude and a longitude. "
   ]
  },
  {
   "cell_type": "markdown",
   "metadata": {},
   "source": [
    "### `folium.Map` \n",
    "\n",
    "To build our `folium.Map` object we will need to center the map in a given location. We will use the `avg` aggregate function to do this. "
   ]
  },
  {
   "cell_type": "code",
   "execution_count": null,
   "metadata": {
    "collapsed": true
   },
   "outputs": [],
   "source": [
    "import folium"
   ]
  },
  {
   "cell_type": "code",
   "execution_count": null,
   "metadata": {
    "collapsed": true
   },
   "outputs": [],
   "source": [
    "avg_location_sf = \"\"\"\n",
    "SELECT avg(latitude) as avg_lat, \n",
    "       avg(longitude) as avg_lon FROM ({}) q;\n",
    "\"\"\".format(select_business_valid)"
   ]
  },
  {
   "cell_type": "code",
   "execution_count": null,
   "metadata": {},
   "outputs": [],
   "source": [
    "db.query_to_dataframe(avg_location_sf)"
   ]
  },
  {
   "cell_type": "code",
   "execution_count": null,
   "metadata": {
    "collapsed": true
   },
   "outputs": [],
   "source": [
    "avg_loc_df = db.query_to_dataframe(avg_location_sf)"
   ]
  },
  {
   "cell_type": "markdown",
   "metadata": {},
   "source": [
    "Then assign the result as a single list value."
   ]
  },
  {
   "cell_type": "code",
   "execution_count": null,
   "metadata": {
    "collapsed": true
   },
   "outputs": [],
   "source": [
    "avg_loc = avg_loc_df.values.tolist()[0]"
   ]
  },
  {
   "cell_type": "code",
   "execution_count": null,
   "metadata": {},
   "outputs": [],
   "source": [
    "sf_map = folium.Map(location=avg_loc, zoom_start=13)"
   ]
  },
  {
   "cell_type": "code",
   "execution_count": null,
   "metadata": {},
   "outputs": [],
   "source": [
    "within_200_meters_of_94101 = db.query_to_dataframe(match_gpnt(94101, 200))"
   ]
  },
  {
   "cell_type": "code",
   "execution_count": null,
   "metadata": {
    "collapsed": true
   },
   "outputs": [],
   "source": [
    "near_94101_lat_long = within_200_meters_of_94101[['latitude', 'longitude','postal_code']].values.tolist()"
   ]
  },
  {
   "cell_type": "code",
   "execution_count": null,
   "metadata": {},
   "outputs": [],
   "source": [
    "for loc in near_94101_lat_long:\n",
    "    try:\n",
    "        postal_code = str(int(loc[2]))\n",
    "    except:\n",
    "        postal_code = None\n",
    "    folium.Marker(loc[:2],postal_code).add_to(sf_map)"
   ]
  },
  {
   "cell_type": "code",
   "execution_count": null,
   "metadata": {
    "scrolled": false
   },
   "outputs": [],
   "source": [
    "sf_map"
   ]
  },
  {
   "cell_type": "markdown",
   "metadata": {},
   "source": [
    "## Maybe that one is OK"
   ]
  },
  {
   "cell_type": "markdown",
   "metadata": {},
   "source": [
    "# Practice \n",
    "\n",
    "See if you can clean up the rest of the \"bad\" postal codes. If the postal codes are valid, keep them."
   ]
  },
  {
   "cell_type": "code",
   "execution_count": null,
   "metadata": {
    "collapsed": true
   },
   "outputs": [],
   "source": []
  },
  {
   "cell_type": "markdown",
   "metadata": {},
   "source": [
    "# What about those Postal Code `NaN`s?"
   ]
  },
  {
   "cell_type": "markdown",
   "metadata": {},
   "source": [
    "Train a K Nearest Neighbors Model to Predict the NaN values. \n",
    "\n",
    "1. Pull all of the data with a valid lat, long, and postal code.\n",
    "2. Perform a train test split on the data.\n",
    "3. Fit a K Nearest Neighbors Model on the training data.\n",
    "4. Validate the model using the test data. \n",
    "5. (optional) Performa Grid Search over the data to find the best number of neighbors to use.\n",
    "6. (optional) Plot a complexity curve showing your model's accuracy versus the number of neighbors.\n",
    "7. Pull all of the data with a valid lat, long, but no postal code. \n",
    "8. Use your model to assign a postal code to the data. "
   ]
  },
  {
   "cell_type": "code",
   "execution_count": null,
   "metadata": {
    "collapsed": true
   },
   "outputs": [],
   "source": []
  },
  {
   "cell_type": "markdown",
   "metadata": {},
   "source": [
    "# Data Analysis"
   ]
  },
  {
   "cell_type": "markdown",
   "metadata": {},
   "source": [
    "Consider the `violation` table.\n",
    "\n",
    "\n",
    "Answer these questions using sql:\n",
    "1. How many violations are there?\n",
    "- How many businesses committing violations?\n",
    "- What's the average number of violations per business?\n",
    "\n",
    "Answer these questions using python\n",
    "1. Draw a plot of the violations count\n",
    "- Is the average number of violations meaningful?\n",
    "> Not really, the distribution is quite skewed\n",
    "- draw a plot of the normalized cumulative violation counts. Can we discard the restaurants with few violations?\n",
    "- where would you draw a threshold if you were to keep 90% of the violations?"
   ]
  },
  {
   "cell_type": "markdown",
   "metadata": {},
   "source": [
    "Consider the `inspection` table.\n",
    "\n",
    "Answer these questions using SQL:\n",
    "1. What's the average score for the whole city?\n",
    "- What's the average score per business?\n",
    "- Does the score correlate with the number of inspections?\n",
    "- Create a dataframe from a table with the following columns:\n",
    "    business_id, average_score, number_of_inspections, number_of_violations\n",
    "- Use pandas to do a scatter matrix plot of average_score, number_of_inspections, number_of_violations to check for correlations"
   ]
  },
  {
   "cell_type": "markdown",
   "metadata": {},
   "source": [
    "### Postal Code Analysis"
   ]
  },
  {
   "cell_type": "markdown",
   "metadata": {},
   "source": [
    "The town administration would like to know which zip code are the ones where they should focus the inspections.\n",
    "\n",
    "Use the information contained in the `business` table as well as the previous tables to answer the following questions using SQL:\n",
    "\n",
    "1. Count the number of businesses per zipcode and sort them by descending order\n",
    "- Which are the top 5 zipcodes with the worst average score?\n",
    "    - Restrict your analysis to the zipcodes with at least 50 businesses\n",
    "    - Do a simple average of the inspections scores in the postal code\n",
    "- Which are the top 5 zipcodes with the highest number of violations per restaurant?\n",
    "    - Restrict your  analysis to the zipcodes with at least 50 businesses\n",
    "\n"
   ]
  },
  {
   "cell_type": "markdown",
   "metadata": {},
   "source": [
    "## Final recommendation\n",
    "Give a final recommendation on which 2 zipcodes should the administration focus and choose an appropriate plot to "
   ]
  },
  {
   "cell_type": "code",
   "execution_count": null,
   "metadata": {
    "collapsed": true
   },
   "outputs": [],
   "source": []
  }
 ],
 "metadata": {
  "kernelspec": {
   "display_name": "Python 3",
   "language": "python",
   "name": "python3"
  },
  "language_info": {
   "codemirror_mode": {
    "name": "ipython",
    "version": 3
   },
   "file_extension": ".py",
   "mimetype": "text/x-python",
   "name": "python",
   "nbconvert_exporter": "python",
   "pygments_lexer": "ipython3",
   "version": "3.6.1"
  }
 },
 "nbformat": 4,
 "nbformat_minor": 2
}
